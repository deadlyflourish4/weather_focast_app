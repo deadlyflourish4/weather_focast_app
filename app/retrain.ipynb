{
 "cells": [
  {
   "cell_type": "code",
   "execution_count": 2,
   "id": "03b712dd",
   "metadata": {},
   "outputs": [
    {
     "name": "stderr",
     "output_type": "stream",
     "text": [
      "2025-04-28 12:58:45,429 - INFO - Loading province data from JSON: /home/anansupercuteeeee/Music/GIT_REPOS/weather_forecast_app/data/provinces_vn.json\n",
      "2025-04-28 12:58:45,444 - INFO - Loaded 19 provinces from JSON.\n"
     ]
    },
    {
     "name": "stdout",
     "output_type": "stream",
     "text": [
      "✅ Bắt đầu fetch dữ liệu 18 tỉnh...\n",
      "🔎 Fetching Haiphong, Vietnam (20.865139, 106.68383) for 2025-04-27...\n"
     ]
    },
    {
     "name": "stderr",
     "output_type": "stream",
     "text": [
      "2025-04-28 12:58:46,319 - INFO - Connecting to MongoDB at mongodb://localhost:27017/...\n",
      "2025-04-28 12:58:46,327 - INFO - MongoDB connection successful.\n",
      "2025-04-28 12:58:46,331 - INFO - Preparing 24 records for MongoDB upsert...\n",
      "2025-04-28 12:58:46,341 - INFO - Executing 24 bulk write operations...\n",
      "2025-04-28 12:58:46,351 - INFO - MongoDB bulk write complete. Upserted: 24, Matched: 0, Modified: 0\n"
     ]
    },
    {
     "name": "stdout",
     "output_type": "stream",
     "text": [
      "✅ Đã lưu 24 records cho Haiphong, Vietnam.\n",
      "🔎 Fetching Sóc Trăng, Soc Trang, Vietnam (9.602521, 105.973907) for 2025-04-27...\n"
     ]
    },
    {
     "name": "stderr",
     "output_type": "stream",
     "text": [
      "2025-04-28 12:58:48,060 - INFO - Preparing 24 records for MongoDB upsert...\n",
      "2025-04-28 12:58:48,061 - INFO - Executing 24 bulk write operations...\n",
      "2025-04-28 12:58:48,065 - INFO - MongoDB bulk write complete. Upserted: 24, Matched: 0, Modified: 0\n"
     ]
    },
    {
     "name": "stdout",
     "output_type": "stream",
     "text": [
      "✅ Đã lưu 24 records cho Sóc Trăng, Soc Trang, Vietnam.\n",
      "🔎 Fetching Huế, Thua Thien Hue, Vietnam (16.463713, 107.590866) for 2025-04-27...\n"
     ]
    },
    {
     "name": "stderr",
     "output_type": "stream",
     "text": [
      "2025-04-28 12:58:49,621 - INFO - Preparing 24 records for MongoDB upsert...\n",
      "2025-04-28 12:58:49,622 - INFO - Executing 24 bulk write operations...\n",
      "2025-04-28 12:58:49,625 - INFO - MongoDB bulk write complete. Upserted: 24, Matched: 0, Modified: 0\n"
     ]
    },
    {
     "name": "stdout",
     "output_type": "stream",
     "text": [
      "✅ Đã lưu 24 records cho Huế, Thua Thien Hue, Vietnam.\n",
      "🔎 Fetching Thuận An, Binh Duong, Vietnam (10.924067, 106.713028) for 2025-04-27...\n"
     ]
    },
    {
     "name": "stderr",
     "output_type": "stream",
     "text": [
      "2025-04-28 12:58:51,367 - INFO - Preparing 24 records for MongoDB upsert...\n",
      "2025-04-28 12:58:51,368 - INFO - Executing 24 bulk write operations...\n",
      "2025-04-28 12:58:51,371 - INFO - MongoDB bulk write complete. Upserted: 24, Matched: 0, Modified: 0\n"
     ]
    },
    {
     "name": "stdout",
     "output_type": "stream",
     "text": [
      "✅ Đã lưu 24 records cho Thuận An, Binh Duong, Vietnam.\n",
      "🔎 Fetching Vinh, Nghe An, Vietnam (18.679585, 105.681335) for 2025-04-27...\n"
     ]
    },
    {
     "name": "stderr",
     "output_type": "stream",
     "text": [
      "2025-04-28 12:58:52,845 - INFO - Preparing 24 records for MongoDB upsert...\n",
      "2025-04-28 12:58:52,846 - INFO - Executing 24 bulk write operations...\n",
      "2025-04-28 12:58:52,856 - INFO - MongoDB bulk write complete. Upserted: 24, Matched: 0, Modified: 0\n"
     ]
    },
    {
     "name": "stdout",
     "output_type": "stream",
     "text": [
      "✅ Đã lưu 24 records cho Vinh, Nghe An, Vietnam.\n",
      "🔎 Fetching Ha Long, Quảng Ninh Province, Vietnam (20.959902, 107.042542) for 2025-04-27...\n"
     ]
    },
    {
     "name": "stderr",
     "output_type": "stream",
     "text": [
      "2025-04-28 12:58:54,337 - INFO - Preparing 24 records for MongoDB upsert...\n",
      "2025-04-28 12:58:54,338 - INFO - Executing 24 bulk write operations...\n",
      "2025-04-28 12:58:54,341 - INFO - MongoDB bulk write complete. Upserted: 24, Matched: 0, Modified: 0\n"
     ]
    },
    {
     "name": "stdout",
     "output_type": "stream",
     "text": [
      "✅ Đã lưu 24 records cho Ha Long, Quảng Ninh Province, Vietnam.\n",
      "🔎 Fetching Da Nang, Vietnam (16.047079, 108.20623) for 2025-04-27...\n"
     ]
    },
    {
     "name": "stderr",
     "output_type": "stream",
     "text": [
      "2025-04-28 12:58:55,804 - INFO - Preparing 24 records for MongoDB upsert...\n",
      "2025-04-28 12:58:55,806 - INFO - Executing 24 bulk write operations...\n",
      "2025-04-28 12:58:55,810 - INFO - MongoDB bulk write complete. Upserted: 24, Matched: 0, Modified: 0\n"
     ]
    },
    {
     "name": "stdout",
     "output_type": "stream",
     "text": [
      "✅ Đã lưu 24 records cho Da Nang, Vietnam.\n",
      "🔎 Fetching Hanoi, Vietnam (1) (21.028511, 105.804817) for 2025-04-27...\n"
     ]
    },
    {
     "name": "stderr",
     "output_type": "stream",
     "text": [
      "2025-04-28 12:58:57,183 - INFO - Preparing 24 records for MongoDB upsert...\n",
      "2025-04-28 12:58:57,184 - INFO - Executing 24 bulk write operations...\n",
      "2025-04-28 12:58:57,195 - INFO - MongoDB bulk write complete. Upserted: 24, Matched: 0, Modified: 0\n"
     ]
    },
    {
     "name": "stdout",
     "output_type": "stream",
     "text": [
      "✅ Đã lưu 24 records cho Hanoi, Vietnam (1).\n",
      "🔎 Fetching Cần Thơ, Ninh Kiều, Can Tho, Vietnam (10.045162, 105.746857) for 2025-04-27...\n"
     ]
    },
    {
     "name": "stderr",
     "output_type": "stream",
     "text": [
      "2025-04-28 12:58:58,589 - INFO - Preparing 24 records for MongoDB upsert...\n",
      "2025-04-28 12:58:58,590 - INFO - Executing 24 bulk write operations...\n",
      "2025-04-28 12:58:58,601 - INFO - MongoDB bulk write complete. Upserted: 24, Matched: 0, Modified: 0\n"
     ]
    },
    {
     "name": "stdout",
     "output_type": "stream",
     "text": [
      "✅ Đã lưu 24 records cho Cần Thơ, Ninh Kiều, Can Tho, Vietnam.\n",
      "🔎 Fetching tp. Huế, Thừa Thiên Huế, Vietnam (16.461109, 107.570183) for 2025-04-27...\n"
     ]
    },
    {
     "name": "stderr",
     "output_type": "stream",
     "text": [
      "2025-04-28 12:59:00,096 - INFO - Preparing 24 records for MongoDB upsert...\n",
      "2025-04-28 12:59:00,097 - INFO - Executing 24 bulk write operations...\n",
      "2025-04-28 12:59:00,107 - INFO - MongoDB bulk write complete. Upserted: 24, Matched: 0, Modified: 0\n"
     ]
    },
    {
     "name": "stdout",
     "output_type": "stream",
     "text": [
      "✅ Đã lưu 24 records cho tp. Huế, Thừa Thiên Huế, Vietnam.\n",
      "🔎 Fetching Biên Hòa, Dong Nai, Vietnam (10.964112, 106.856461) for 2025-04-27...\n"
     ]
    },
    {
     "name": "stderr",
     "output_type": "stream",
     "text": [
      "2025-04-28 12:59:01,592 - INFO - Preparing 24 records for MongoDB upsert...\n",
      "2025-04-28 12:59:01,594 - INFO - Executing 24 bulk write operations...\n",
      "2025-04-28 12:59:01,600 - INFO - MongoDB bulk write complete. Upserted: 24, Matched: 0, Modified: 0\n"
     ]
    },
    {
     "name": "stdout",
     "output_type": "stream",
     "text": [
      "✅ Đã lưu 24 records cho Biên Hòa, Dong Nai, Vietnam.\n",
      "🔎 Fetching Cao Bang, Vietnam (22.679281, 106.260452) for 2025-04-27...\n"
     ]
    },
    {
     "name": "stderr",
     "output_type": "stream",
     "text": [
      "2025-04-28 12:59:02,984 - INFO - Preparing 24 records for MongoDB upsert...\n",
      "2025-04-28 12:59:02,985 - INFO - Executing 24 bulk write operations...\n",
      "2025-04-28 12:59:02,990 - INFO - MongoDB bulk write complete. Upserted: 24, Matched: 0, Modified: 0\n"
     ]
    },
    {
     "name": "stdout",
     "output_type": "stream",
     "text": [
      "✅ Đã lưu 24 records cho Cao Bang, Vietnam.\n",
      "🔎 Fetching Cành Nàng, Ba Thuoc District, Thanh Hoa, Vietnam (20.351387, 105.221214) for 2025-04-27...\n"
     ]
    },
    {
     "name": "stderr",
     "output_type": "stream",
     "text": [
      "2025-04-28 12:59:04,467 - INFO - Preparing 24 records for MongoDB upsert...\n",
      "2025-04-28 12:59:04,468 - INFO - Executing 24 bulk write operations...\n",
      "2025-04-28 12:59:04,473 - INFO - MongoDB bulk write complete. Upserted: 24, Matched: 0, Modified: 0\n"
     ]
    },
    {
     "name": "stdout",
     "output_type": "stream",
     "text": [
      "✅ Đã lưu 24 records cho Cành Nàng, Ba Thuoc District, Thanh Hoa, Vietnam.\n",
      "🔎 Fetching tp. Yên Bái, Yen Bai Province, Vietnam (21.716768, 104.89859) for 2025-04-27...\n"
     ]
    },
    {
     "name": "stderr",
     "output_type": "stream",
     "text": [
      "2025-04-28 12:59:05,896 - INFO - Preparing 24 records for MongoDB upsert...\n",
      "2025-04-28 12:59:05,898 - INFO - Executing 24 bulk write operations...\n",
      "2025-04-28 12:59:05,903 - INFO - MongoDB bulk write complete. Upserted: 24, Matched: 0, Modified: 0\n"
     ]
    },
    {
     "name": "stdout",
     "output_type": "stream",
     "text": [
      "✅ Đã lưu 24 records cho tp. Yên Bái, Yen Bai Province, Vietnam.\n",
      "🔎 Fetching Hạ Hòa, Quốc Oai, Hanoi, Vietnam (20.962406, 105.698448) for 2025-04-27...\n"
     ]
    },
    {
     "name": "stderr",
     "output_type": "stream",
     "text": [
      "2025-04-28 12:59:07,271 - INFO - Preparing 24 records for MongoDB upsert...\n",
      "2025-04-28 12:59:07,272 - INFO - Executing 24 bulk write operations...\n",
      "2025-04-28 12:59:07,275 - INFO - MongoDB bulk write complete. Upserted: 24, Matched: 0, Modified: 0\n"
     ]
    },
    {
     "name": "stdout",
     "output_type": "stream",
     "text": [
      "✅ Đã lưu 24 records cho Hạ Hòa, Quốc Oai, Hanoi, Vietnam.\n",
      "🔎 Fetching Long Khánh, Dong Nai, Vietnam (10.95063, 107.211456) for 2025-04-27...\n"
     ]
    },
    {
     "name": "stderr",
     "output_type": "stream",
     "text": [
      "2025-04-28 12:59:08,670 - INFO - Preparing 24 records for MongoDB upsert...\n",
      "2025-04-28 12:59:08,672 - INFO - Executing 24 bulk write operations...\n",
      "2025-04-28 12:59:08,684 - INFO - MongoDB bulk write complete. Upserted: 24, Matched: 0, Modified: 0\n"
     ]
    },
    {
     "name": "stdout",
     "output_type": "stream",
     "text": [
      "✅ Đã lưu 24 records cho Long Khánh, Dong Nai, Vietnam.\n",
      "🔎 Fetching Tây Ninh, Vietnam (11.375031, 106.131363) for 2025-04-27...\n"
     ]
    },
    {
     "name": "stderr",
     "output_type": "stream",
     "text": [
      "2025-04-28 12:59:10,059 - INFO - Preparing 24 records for MongoDB upsert...\n",
      "2025-04-28 12:59:10,060 - INFO - Executing 24 bulk write operations...\n",
      "2025-04-28 12:59:10,064 - INFO - MongoDB bulk write complete. Upserted: 24, Matched: 0, Modified: 0\n"
     ]
    },
    {
     "name": "stdout",
     "output_type": "stream",
     "text": [
      "✅ Đã lưu 24 records cho Tây Ninh, Vietnam.\n",
      "🔎 Fetching Hanoi, Vietnam (2) (21.033333, 105.849998) for 2025-04-27...\n"
     ]
    },
    {
     "name": "stderr",
     "output_type": "stream",
     "text": [
      "2025-04-28 12:59:11,499 - INFO - Preparing 24 records for MongoDB upsert...\n",
      "2025-04-28 12:59:11,500 - INFO - Executing 24 bulk write operations...\n",
      "2025-04-28 12:59:11,504 - INFO - MongoDB bulk write complete. Upserted: 24, Matched: 0, Modified: 0\n"
     ]
    },
    {
     "name": "stdout",
     "output_type": "stream",
     "text": [
      "✅ Đã lưu 24 records cho Hanoi, Vietnam (2).\n",
      "🔎 Fetching Ho Chi Minh City, Vietnam (10.762622, 106.660172) for 2025-04-27...\n"
     ]
    },
    {
     "name": "stderr",
     "output_type": "stream",
     "text": [
      "2025-04-28 12:59:12,926 - INFO - Preparing 24 records for MongoDB upsert...\n",
      "2025-04-28 12:59:12,927 - INFO - Executing 24 bulk write operations...\n",
      "2025-04-28 12:59:12,930 - INFO - MongoDB bulk write complete. Upserted: 24, Matched: 0, Modified: 0\n"
     ]
    },
    {
     "name": "stdout",
     "output_type": "stream",
     "text": [
      "✅ Đã lưu 24 records cho Ho Chi Minh City, Vietnam.\n",
      "\n",
      "🏁 Tổng số record đã lưu: 456\n"
     ]
    }
   ],
   "source": [
    "from datetime import datetime, timedelta\n",
    "from core.data_loader import get_province_coordinates, call_api_to_get_data, parse_api_data\n",
    "from core.database import save_data_to_mongo\n",
    "import time\n",
    "\n",
    "def test_fetch_data():\n",
    "    print(\"✅ Bắt đầu fetch dữ liệu 18 tỉnh...\")\n",
    "\n",
    "    # Đọc danh sách tỉnh từ JSON\n",
    "    provinces_df = get_province_coordinates()\n",
    "\n",
    "    # Fetch dữ liệu cho ngày hôm qua\n",
    "    today = datetime.now()\n",
    "    yesterday = today - timedelta(days=1)\n",
    "    date_str = yesterday.strftime(\"%Y-%m-%d\")\n",
    "\n",
    "    total_saved = 0\n",
    "\n",
    "    for idx, row in provinces_df.iterrows():\n",
    "        province_name = row['province_name']\n",
    "        lat = row['latitude']\n",
    "        lon = row['longitude']\n",
    "\n",
    "        print(f\"🔎 Fetching {province_name} ({lat}, {lon}) for {date_str}...\")\n",
    "\n",
    "        # Gọi API lấy dữ liệu\n",
    "        json_data = call_api_to_get_data(date_str, date_str, province_name)\n",
    "\n",
    "        # Parse dữ liệu\n",
    "        if json_data:\n",
    "            df = parse_api_data(json_data, province_name, lat, lon)\n",
    "            if not df.empty:\n",
    "                count = save_data_to_mongo(df)\n",
    "                print(f\"✅ Đã lưu {count} records cho {province_name}.\")\n",
    "                total_saved += count\n",
    "            else:\n",
    "                print(f\"⚠️ Không có dữ liệu hợp lệ cho {province_name}.\")\n",
    "        else:\n",
    "            print(f\"❌ Fetch lỗi cho {province_name}.\")\n",
    "\n",
    "        time.sleep(1.1)  # Tránh spam API key\n",
    "\n",
    "    print(f\"\\n🏁 Tổng số record đã lưu: {total_saved}\")\n",
    "\n",
    "if __name__ == \"__main__\":\n",
    "    test_fetch_data()\n"
   ]
  },
  {
   "cell_type": "code",
   "execution_count": 1,
   "id": "7184839b",
   "metadata": {},
   "outputs": [
    {
     "name": "stderr",
     "output_type": "stream",
     "text": [
      "2025-04-28 14:35:03,823 - INFO - 🔄 Đang merge dữ liệu ngày 2025-04-27 vào base_weather.csv...\n",
      "2025-04-28 14:35:03,823 - INFO - Connecting to MongoDB at mongodb://localhost:27017/...\n",
      "2025-04-28 14:35:03,841 - INFO - MongoDB connection successful.\n",
      "2025-04-28 14:35:03,841 - INFO - Loading data from MongoDB collection: hourly_data...\n",
      "2025-04-28 14:35:03,851 - INFO - Loaded 1368 records from MongoDB.\n",
      "2025-04-28 14:35:03,854 - WARNING - ⚠️ Base CSV chưa tồn tại. Sẽ tạo mới.\n",
      "/home/anansupercuteeeee/Music/GIT_REPOS/weather_forecast_app/app/core/utils.py:49: FutureWarning: The behavior of DataFrame concatenation with empty or all-NA entries is deprecated. In a future version, this will no longer exclude empty or all-NA columns when determining the result dtypes. To retain the old behavior, exclude the relevant entries before the concat operation.\n",
      "  df_merged = pd.concat([df_base, df_today], ignore_index=True)\n",
      "2025-04-28 14:35:03,861 - INFO - ✅ Merge thành công. Đã lưu 456 records vào base_weather.csv.\n"
     ]
    },
    {
     "name": "stdout",
     "output_type": "stream",
     "text": [
      "🧪 Test merge dữ liệu ngày 2025-04-27...\n",
      "✅ Test merge xong. Kiểm tra file data/base_weather.csv nhé!\n"
     ]
    }
   ],
   "source": [
    "from datetime import datetime\n",
    "from core.utils import merge_today_data_into_csv\n",
    "\n",
    "def test_merge_today_data():\n",
    "    from datetime import timedelta\n",
    "    # Set today muốn test\n",
    "    today = datetime.now().replace(hour=0, minute=0, second=0, microsecond=0) - timedelta(days=1)\n",
    "    \n",
    "    print(f\"🧪 Test merge dữ liệu ngày {today.strftime('%Y-%m-%d')}...\")\n",
    "    merge_today_data_into_csv(today)\n",
    "    print(\"✅ Test merge xong. Kiểm tra file data/base_weather.csv nhé!\")\n",
    "\n",
    "if __name__ == \"__main__\":\n",
    "    test_merge_today_data()\n"
   ]
  },
  {
   "cell_type": "code",
   "execution_count": 3,
   "id": "cdb02aa3",
   "metadata": {},
   "outputs": [
    {
     "name": "stderr",
     "output_type": "stream",
     "text": [
      "2025-04-28 14:02:02,311 - INFO - Loading data from MongoDB collection: hourly_data...\n",
      "2025-04-28 14:02:02,322 - INFO - Loaded 1368 records from MongoDB.\n"
     ]
    }
   ],
   "source": [
    "from core.database import load_data_from_mongo\n",
    "\n",
    "df = load_data_from_mongo()\n"
   ]
  },
  {
   "cell_type": "code",
   "execution_count": null,
   "id": "87fa5c8c",
   "metadata": {},
   "outputs": [],
   "source": []
  },
  {
   "cell_type": "code",
   "execution_count": 4,
   "id": "6721ad65",
   "metadata": {},
   "outputs": [
    {
     "name": "stdout",
     "output_type": "stream",
     "text": [
      "⏳ Dữ liệu MongoDB từ 2025-04-25 00:00:00 đến 2025-04-27 23:00:00\n"
     ]
    }
   ],
   "source": [
    "if not df.empty:\n",
    "    min_time = df['datetime'].min()\n",
    "    max_time = df['datetime'].max()\n",
    "    print(f\"⏳ Dữ liệu MongoDB từ {min_time} đến {max_time}\")\n",
    "else:\n",
    "    print(\"⚠️ MongoDB hiện tại không có dữ liệu.\")\n"
   ]
  },
  {
   "cell_type": "code",
   "execution_count": 4,
   "id": "498f8b45",
   "metadata": {},
   "outputs": [
    {
     "data": {
      "text/plain": [
       "'/home/anansupercuteeeee/Music/GIT_REPOS/weather_forecast_app/app'"
      ]
     },
     "execution_count": 4,
     "metadata": {},
     "output_type": "execute_result"
    }
   ],
   "source": [
    "pwd"
   ]
  },
  {
   "cell_type": "code",
   "execution_count": 5,
   "id": "ef3e16f1",
   "metadata": {},
   "outputs": [],
   "source": [
    "import sys\n",
    "sys.path.append(\"/home/anansupercuteeeee/Music/GIT_REPOS/weather_forecast_app\")\n"
   ]
  },
  {
   "cell_type": "code",
   "execution_count": null,
   "id": "bdd38758",
   "metadata": {},
   "outputs": [],
   "source": [
    "from app.main import daily_fetch_job\n",
    "print(\"🔵 Bắt đầu chạy daily_fetch_job()\")\n",
    "daily_fetch_job()\n",
    "print(\"🟢 daily_fetch_job() chạy xong!\")\n"
   ]
  },
  {
   "cell_type": "code",
   "execution_count": null,
   "id": "b46edf6d",
   "metadata": {},
   "outputs": [],
   "source": []
  }
 ],
 "metadata": {
  "kernelspec": {
   "display_name": "opflow",
   "language": "python",
   "name": "python3"
  },
  "language_info": {
   "codemirror_mode": {
    "name": "ipython",
    "version": 3
   },
   "file_extension": ".py",
   "mimetype": "text/x-python",
   "name": "python",
   "nbconvert_exporter": "python",
   "pygments_lexer": "ipython3",
   "version": "3.12.9"
  }
 },
 "nbformat": 4,
 "nbformat_minor": 5
}
