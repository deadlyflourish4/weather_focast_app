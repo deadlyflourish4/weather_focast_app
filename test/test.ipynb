{
 "cells": [
  {
   "cell_type": "code",
   "execution_count": 1,
   "id": "31ff2d3a",
   "metadata": {},
   "outputs": [
    {
     "name": "stdout",
     "output_type": "stream",
     "text": [
      "{'detail': [{'type': 'missing', 'loc': ['body', 'instances'], 'msg': 'Field required', 'input': {'your': 'data'}}]}\n"
     ]
    }
   ],
   "source": [
    "import requests\n",
    "\n",
    "response = requests.post(\"http://127.0.0.1:8000/predict\", json={\"your\": \"data\"})\n",
    "print(response.json())\n"
   ]
  },
  {
   "cell_type": "code",
   "execution_count": 6,
   "id": "f67996ab",
   "metadata": {},
   "outputs": [
    {
     "name": "stdout",
     "output_type": "stream",
     "text": [
      "Round 1/10 - Train Accuracy: 0.8788, Test Accuracy: 0.7600\n",
      "Round 2/10 - Train Accuracy: 0.9012, Test Accuracy: 0.7850\n",
      "Round 3/10 - Train Accuracy: 0.9263, Test Accuracy: 0.8000\n",
      "Round 4/10 - Train Accuracy: 0.9425, Test Accuracy: 0.7900\n",
      "Round 5/10 - Train Accuracy: 0.9550, Test Accuracy: 0.8250\n",
      "Round 6/10 - Train Accuracy: 0.9550, Test Accuracy: 0.8300\n",
      "Round 7/10 - Train Accuracy: 0.9563, Test Accuracy: 0.8500\n",
      "Round 8/10 - Train Accuracy: 0.9675, Test Accuracy: 0.8300\n",
      "Round 9/10 - Train Accuracy: 0.9725, Test Accuracy: 0.8500\n",
      "Round 10/10 - Train Accuracy: 0.9788, Test Accuracy: 0.8550\n"
     ]
    }
   ],
   "source": [
    "from sklearn.datasets import make_classification\n",
    "from sklearn.model_selection import train_test_split\n",
    "from sklearn.metrics import accuracy_score\n",
    "from xgboost import XGBClassifier\n",
    "\n",
    "# Generate synthetic binary classification dataset\n",
    "X, y = make_classification(n_samples=1000, n_features=10, n_informative=8, n_redundant=2,\n",
    "                           n_classes=2, weights=[0.6, 0.4], random_state=42)\n",
    "\n",
    "# Split data into train and test sets\n",
    "X_train, X_test, y_train, y_test = train_test_split(X, y, test_size=0.2, random_state=42)\n",
    "\n",
    "# Initialize XGBoost classifier\n",
    "model = XGBClassifier(n_estimators=1, random_state=42)\n",
    "model.fit(X_train, y_train)\n",
    "\n",
    "# Train model incrementally for multiple rounds\n",
    "num_rounds = 10\n",
    "for i in range(num_rounds):\n",
    "    model.fit(X_train, y_train, xgb_model=model.get_booster())\n",
    "\n",
    "    # Make predictions on train and test data\n",
    "    y_train_pred = model.predict(X_train)\n",
    "    y_test_pred = model.predict(X_test)\n",
    "\n",
    "    # Calculate and print accuracy scores\n",
    "    train_accuracy = accuracy_score(y_train, y_train_pred)\n",
    "    test_accuracy = accuracy_score(y_test, y_test_pred)\n",
    "    print(f\"Round {i+1}/{num_rounds} - Train Accuracy: {train_accuracy:.4f}, Test Accuracy: {test_accuracy:.4f}\")"
   ]
  },
  {
   "cell_type": "code",
   "execution_count": 7,
   "id": "a4af7703",
   "metadata": {},
   "outputs": [],
   "source": [
    "from pymongo import MongoClient, UpdateOne, errors"
   ]
  },
  {
   "cell_type": "code",
   "execution_count": 11,
   "id": "afff2840",
   "metadata": {},
   "outputs": [
    {
     "name": "stdout",
     "output_type": "stream",
     "text": [
      "{'_id': ObjectId('680e3a91200720b5a5891497'), 'test': 'hello world'}\n"
     ]
    }
   ],
   "source": [
    "from pymongo import MongoClient\n",
    "\n",
    "client = MongoClient('mongodb://localhost:27017/')\n",
    "db = client['test_database']\n",
    "collection = db['test_collection']\n",
    "\n",
    "# Test insert\n",
    "collection.insert_one({\"test\": \"hello world\"})\n",
    "\n",
    "# Test đọc\n",
    "for doc in collection.find():\n",
    "    print(doc)\n"
   ]
  },
  {
   "cell_type": "code",
   "execution_count": null,
   "id": "e2c05991",
   "metadata": {},
   "outputs": [],
   "source": []
  }
 ],
 "metadata": {
  "kernelspec": {
   "display_name": "opflow",
   "language": "python",
   "name": "python3"
  },
  "language_info": {
   "codemirror_mode": {
    "name": "ipython",
    "version": 3
   },
   "file_extension": ".py",
   "mimetype": "text/x-python",
   "name": "python",
   "nbconvert_exporter": "python",
   "pygments_lexer": "ipython3",
   "version": "3.12.9"
  }
 },
 "nbformat": 4,
 "nbformat_minor": 5
}
